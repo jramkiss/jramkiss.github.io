{
 "cells": [
  {
   "cell_type": "markdown",
   "metadata": {},
   "source": [
    "## Can a neural network learn max() and min() functions?\n",
    "\n",
    "\n",
    "- I want to know if a regular neural network can learn `max()` and `min()` functions. What about a residual neural network?\n",
    "- First plot the max and min function to see what they look like \n",
    "\n",
    "\n",
    "- How long does it take to train?\n",
    "- Does it get more and more accurate every iteration? Should be because the data has no noise, to we are directly observing $f(x)$"
   ]
  },
  {
   "cell_type": "code",
   "execution_count": 14,
   "metadata": {},
   "outputs": [],
   "source": [
    "import sys\n",
    "import numpy as np\n",
    "import scipy\n",
    "import matplotlib.pyplot as plt\n",
    "import seaborn as sns\n",
    "\n",
    "import pandas as pd\n",
    "from scipy.stats import dirichlet\n",
    "\n",
    "sns.set_style('darkgrid')\n",
    "np.random.seed(42)"
   ]
  },
  {
   "cell_type": "code",
   "execution_count": 54,
   "metadata": {},
   "outputs": [
    {
     "data": {
      "text/html": [
       "<div>\n",
       "<style scoped>\n",
       "    .dataframe tbody tr th:only-of-type {\n",
       "        vertical-align: middle;\n",
       "    }\n",
       "\n",
       "    .dataframe tbody tr th {\n",
       "        vertical-align: top;\n",
       "    }\n",
       "\n",
       "    .dataframe thead th {\n",
       "        text-align: right;\n",
       "    }\n",
       "</style>\n",
       "<table border=\"1\" class=\"dataframe\">\n",
       "  <thead>\n",
       "    <tr style=\"text-align: right;\">\n",
       "      <th></th>\n",
       "      <th>0</th>\n",
       "      <th>1</th>\n",
       "      <th>2</th>\n",
       "      <th>3</th>\n",
       "      <th>y</th>\n",
       "    </tr>\n",
       "  </thead>\n",
       "  <tbody>\n",
       "    <tr>\n",
       "      <th>0</th>\n",
       "      <td>0.176416</td>\n",
       "      <td>0.142227</td>\n",
       "      <td>0.343214</td>\n",
       "      <td>0.338143</td>\n",
       "      <td>2</td>\n",
       "    </tr>\n",
       "    <tr>\n",
       "      <th>1</th>\n",
       "      <td>0.319531</td>\n",
       "      <td>0.333983</td>\n",
       "      <td>0.182870</td>\n",
       "      <td>0.163616</td>\n",
       "      <td>1</td>\n",
       "    </tr>\n",
       "    <tr>\n",
       "      <th>2</th>\n",
       "      <td>0.275651</td>\n",
       "      <td>0.201165</td>\n",
       "      <td>0.365678</td>\n",
       "      <td>0.157506</td>\n",
       "      <td>2</td>\n",
       "    </tr>\n",
       "    <tr>\n",
       "      <th>3</th>\n",
       "      <td>0.254076</td>\n",
       "      <td>0.199043</td>\n",
       "      <td>0.234698</td>\n",
       "      <td>0.312183</td>\n",
       "      <td>3</td>\n",
       "    </tr>\n",
       "    <tr>\n",
       "      <th>4</th>\n",
       "      <td>0.214012</td>\n",
       "      <td>0.324113</td>\n",
       "      <td>0.149042</td>\n",
       "      <td>0.312833</td>\n",
       "      <td>1</td>\n",
       "    </tr>\n",
       "  </tbody>\n",
       "</table>\n",
       "</div>"
      ],
      "text/plain": [
       "          0         1         2         3  y\n",
       "0  0.176416  0.142227  0.343214  0.338143  2\n",
       "1  0.319531  0.333983  0.182870  0.163616  1\n",
       "2  0.275651  0.201165  0.365678  0.157506  2\n",
       "3  0.254076  0.199043  0.234698  0.312183  3\n",
       "4  0.214012  0.324113  0.149042  0.312833  1"
      ]
     },
     "execution_count": 54,
     "metadata": {},
     "output_type": "execute_result"
    }
   ],
   "source": [
    "X = pd.DataFrame(dirichlet.rvs(alpha = [6, 7, 8, 7], size = 1000))\n",
    "\n",
    "y = []\n",
    "for _, row in X.iterrows() :\n",
    "    y.append(np.argmax((row)))\n",
    "\n",
    "data = X.copy()\n",
    "data[\"y\"] = y\n",
    "data.head()"
   ]
  },
  {
   "cell_type": "code",
   "execution_count": null,
   "metadata": {},
   "outputs": [],
   "source": [
    "# use fastai tabular probably"
   ]
  }
 ],
 "metadata": {
  "kernelspec": {
   "display_name": "Python 3",
   "language": "python",
   "name": "python3"
  },
  "language_info": {
   "codemirror_mode": {
    "name": "ipython",
    "version": 3
   },
   "file_extension": ".py",
   "mimetype": "text/x-python",
   "name": "python",
   "nbconvert_exporter": "python",
   "pygments_lexer": "ipython3",
   "version": "3.7.7"
  }
 },
 "nbformat": 4,
 "nbformat_minor": 4
}
