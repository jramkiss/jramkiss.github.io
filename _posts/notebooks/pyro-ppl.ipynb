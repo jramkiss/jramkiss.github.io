{
 "cells": [
  {
   "cell_type": "markdown",
   "metadata": {},
   "source": [
    "# Pyro\n",
    "\n",
    "https://www.youtube.com/watch?v=aLFJ5ERxt2c"
   ]
  },
  {
   "cell_type": "code",
   "execution_count": 5,
   "metadata": {},
   "outputs": [],
   "source": [
    "import pyro\n",
    "from pyro import distributions"
   ]
  },
  {
   "cell_type": "code",
   "execution_count": 7,
   "metadata": {},
   "outputs": [
    {
     "data": {
      "text/plain": [
       "tensor(1.)"
      ]
     },
     "execution_count": 7,
     "metadata": {},
     "output_type": "execute_result"
    }
   ],
   "source": [
    "x = pyro.sample(\"x\", distributions.Bernoulli(0.5))\n",
    "x"
   ]
  },
  {
   "cell_type": "markdown",
   "metadata": {},
   "source": [
    "### Pyro Primitives\n",
    "\n",
    "Here we have an `obs` in the pyro.sample statement. We fit the learnable params in this distribution to the observed data.\n",
    "\n",
    "`pyro.sample(\"data\", distributions.Normal(0, 1), obs = data)`\n",
    "\n",
    "We also have the `pyro.param` statement, which is how we specify that a parameter is learnable. We register it with a name and initial value, and optionally constrain the parameter to run constrained optimizations.\n",
    "\n",
    "`pyro.param(\"theta\", torch.ones(100), constraint = positive)`\n",
    "\n",
    "#### Plate\n",
    "\n",
    "Using `pyro.plate` we can specify conditional independence / exchangeability. Below we can draw multiple samples in parallel by sampling batches by specifying batch dimensions.\n",
    "\n",
    "```\n",
    "with pyro.plate(\"data\", len(data), batch_size) as ids :\n",
    "    pyro.sample(\"data\", func, obs = data[ids])\n",
    "```\n",
    "\n",
    "Sometimes we want to do different things with different batches:\n",
    "\n",
    "```\n",
    "for i in pyro.plate(\"data\", len(data), batch_size) :\n",
    "    pyro.sample(\"data_%i\"%i, func(x), obs = data[i])\n",
    "```\n",
    "\n"
   ]
  },
  {
   "cell_type": "markdown",
   "metadata": {},
   "source": [
    "### Pyro Models\n",
    "\n",
    "Pyro models are Python functions.\n",
    "\n",
    "- Line 1: We declare something as trainable $p$\n",
    "- Line 2: Sample statement that samples a Categorical based on our trainable parameter, $p$\n",
    "- Line 3: Control flow. Without this, our model is just a graphical model.\n",
    "- Line 4: We have an observe statement that conditions our model on our data.\n",
    "\n",
    "```\n",
    "def model(data) :\n",
    "    p = pyro.param(\"p\", torch.ones(10)/10, constraint = simplex)\n",
    "    c = pyro.sample(\"c\", Categorical(p)\n",
    "    if c > 0 :\n",
    "        pyro.sample(\"obs\", Normal(helper(c - 1), 1.), obs = data)\n",
    "        \n",
    "def helper(c) :\n",
    "    x = pyro.sample(\"x\", Normal(0, 10))\n",
    "    return x[c]\n",
    "```"
   ]
  },
  {
   "cell_type": "markdown",
   "metadata": {},
   "source": [
    "### Pyro for Semi-Supervised Learning\n",
    "\n",
    "- Line 1: Goes through the NN and declares pyro.param on all the parameters. Like a recursive param statement\n",
    "- Line 2: I want my embedding vectors to be Gaussian \n",
    "- Line 3: Sample a random digit\n",
    "- Line 4: Conditioned on the digit (decode those together) we sample a binarized image. If the image is not provided, this is a generative model, however if we do provide an image, this is interpreted as conditioning the model to an image. WE can then ttry to fig out the conditional distribution given the image. \n",
    "\n",
    "```\n",
    "decoder = ... # neural network\n",
    "\n",
    "def model (image = None):\n",
    "    pyro.module(\"decoder\", decoder) # fancy param statement. This declares pyro.param on all the neural net parameters\n",
    "    style = pyro.sample(\"style\", Normal(zeros(20), ones(20))\n",
    "    digit = pyro.sample(\"digit\", Categorical(ones(10) * 0.1)\n",
    "    image = pyro.sample(\"image\", Bernoulli(style, digit), obs = image)\n",
    "    return image\n",
    "    \n",
    "def guide (image) :\n",
    "    pyro.module(\"encoder_digit\", encoder_digit)\n",
    "    pyro.module(\"encoder_style\", encoder_style)\n",
    "    digit = pyro.sample(\"digit\", Categorical(encoder_digit(image))\n",
    "    loc, scale = encoder_style(image, digit)\n",
    "    style = pyro.sample(\"style\", Normal(loc, scale)\n",
    "    return digit, style\n",
    "```"
   ]
  },
  {
   "cell_type": "code",
   "execution_count": null,
   "metadata": {},
   "outputs": [],
   "source": []
  }
 ],
 "metadata": {
  "kernelspec": {
   "display_name": "Python 3",
   "language": "python",
   "name": "python3"
  },
  "language_info": {
   "codemirror_mode": {
    "name": "ipython",
    "version": 3
   },
   "file_extension": ".py",
   "mimetype": "text/x-python",
   "name": "python",
   "nbconvert_exporter": "python",
   "pygments_lexer": "ipython3",
   "version": "3.7.7"
  }
 },
 "nbformat": 4,
 "nbformat_minor": 4
}
