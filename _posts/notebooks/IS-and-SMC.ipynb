{
 "cells": [
  {
   "cell_type": "markdown",
   "id": "ae2b4273-6db5-4d82-ab91-da69f0c89329",
   "metadata": {},
   "source": [
    "The bones of these notes come from [here](https://ib.berkeley.edu/labs/slatkin/eriq/classes/guest_lect/mc_lecture_notes.pdf), and I've adapted it a bit to help myself understand the concepts. \n",
    "\n",
    "## Setting the stage\n",
    "\n",
    "We're interested in finding the expecation of some distribution, $f(x)$. This seems pretty general, but many useful quantities can be expressed as expectations, for example: \n",
    "\n",
    "- Probabilities are expectations of indicator functions:\n",
    "\n",
    "$$ P(X = A) = E(I_A(X) $$\n",
    "\n",
    "- Definite integrals between $[a, b]$ can be expressed as expectations over Uniform random variables. Say we want to integrate a function, $q(x)$ between $[a, b]$. Starting with the expected value of $X \\sim U(a, b)$:\n",
    "\n",
    "$$ E(q(X_u)) = \\int_b^a q(x) \\frac{1}{b-a} dx $$\n",
    "\n",
    "$$ \\int_b^a q(x) dx = (b-a)E(q(X_u)) $$\n",
    "\n",
    "\n",
    "## Monte Carlo Estimates\n",
    "\n",
    "The general idea here is to generate samples from a distribution that is easy to sample from, like $X \\sim U(0,1)$. Then transform these samples using out function of interest, $q(x)$, and find the average of these values. \n",
    "\n",
    "Immediately, a problem arises which is that the distribution we sample from needs to be close-ish to the function of interest, or the method will be inefficient. This is where importance sampling comes in.\n",
    "\n",
    "\n",
    "## Importance Sampling\n",
    "\n",
    "The problem we are trying to solve with importance sampling is that during our Monte Carlo estimation scheme, the choice of sample distribution can throw off our estimates. IS deals with this problem by re-weighting the proposed samples to be closer in density to the function of interest. It does this re-weighting by multiplying the integrand \"by 1\". For example, we are interested in computing the integral of $g(x)$ in a region, $A$. Let $X \\sim h(x)$ be a density where $\\int_{x \\in A} h(x) dx = 1$. Then we have: \n",
    "\n",
    "$$ \\int_{x \\in A} g(x) dx = \\int_{x \\in A} g(x) \\frac{h(x)}{h(x)} dx $$\n",
    "\n",
    "$$ \\int_{x \\in A} g(x) \\frac{h(x)}{h(x)} dx = E_h(\\frac{g(x)}{h(x)} $$\n",
    "\n",
    "Then our Monte Carlo estimate for $g(x)$ is: \n",
    "\n",
    "$$ \\frac{1}{N} \\sum_{i = 1}^N \\frac{g(x)}{h(x)}, \\quad \\quad \\text{for: } X_i \\sim h(x) $$\n",
    "\n",
    "\n",
    "To be continued..."
   ]
  },
  {
   "cell_type": "code",
   "execution_count": null,
   "id": "4ffc2afc-0810-4a93-b388-044040067cc6",
   "metadata": {},
   "outputs": [],
   "source": []
  }
 ],
 "metadata": {
  "kernelspec": {
   "display_name": "Python 3",
   "language": "python",
   "name": "python3"
  },
  "language_info": {
   "codemirror_mode": {
    "name": "ipython",
    "version": 3
   },
   "file_extension": ".py",
   "mimetype": "text/x-python",
   "name": "python",
   "nbconvert_exporter": "python",
   "pygments_lexer": "ipython3",
   "version": "3.7.10"
  }
 },
 "nbformat": 4,
 "nbformat_minor": 5
}
