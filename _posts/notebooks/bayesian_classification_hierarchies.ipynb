{
 "cells": [
  {
   "cell_type": "markdown",
   "metadata": {},
   "source": [
    "## Data"
   ]
  },
  {
   "cell_type": "code",
   "execution_count": 1,
   "metadata": {},
   "outputs": [],
   "source": [
    "import pandas as pd\n",
    "import numpy as np\n",
    "import seaborn as sns\n",
    "import matplotlib.pyplot as plt\n",
    "\n",
    "pd.set_option(\"max_colwidth\", 100)\n",
    "%config InlineBackend.figure_format = 'retina'\n",
    "\n",
    "from gensim.corpora import Dictionary\n",
    "from gensim.matutils import corpus2csc, corpus2dense\n",
    "from gensim.sklearn_api import TfIdfTransformer\n",
    "\n",
    "from sklearn.preprocessing import LabelBinarizer\n",
    "from sklearn import preprocessing\n",
    "from sklearn.model_selection import train_test_split\n",
    "\n",
    "import os\n",
    "import time\n",
    "\n",
    "from jax import vmap, jit\n",
    "import jax.numpy as jnp\n",
    "import jax.random as random\n",
    "\n",
    "import numpyro\n",
    "from numpyro import handlers\n",
    "import numpyro.distributions as dist\n",
    "from numpyro.infer import MCMC, NUTS\n",
    "from jax.nn import softmax\n",
    "\n",
    "from numpyro.handlers import reparam\n",
    "from numpyro.infer.reparam import LocScaleReparam\n",
    "\n",
    "from sklearn.linear_model import SGDClassifier\n",
    "from sklearn.linear_model import RidgeClassifier\n",
    "from imblearn.metrics import classification_report_imbalanced"
   ]
  },
  {
   "cell_type": "code",
   "execution_count": 2,
   "metadata": {},
   "outputs": [
    {
     "data": {
      "text/html": [
       "<div>\n",
       "<style scoped>\n",
       "    .dataframe tbody tr th:only-of-type {\n",
       "        vertical-align: middle;\n",
       "    }\n",
       "\n",
       "    .dataframe tbody tr th {\n",
       "        vertical-align: top;\n",
       "    }\n",
       "\n",
       "    .dataframe thead th {\n",
       "        text-align: right;\n",
       "    }\n",
       "</style>\n",
       "<table border=\"1\" class=\"dataframe\">\n",
       "  <thead>\n",
       "    <tr style=\"text-align: right;\">\n",
       "      <th></th>\n",
       "      <th>Title</th>\n",
       "      <th>Parent Category</th>\n",
       "      <th>Child Category</th>\n",
       "    </tr>\n",
       "  </thead>\n",
       "  <tbody>\n",
       "    <tr>\n",
       "      <th>0</th>\n",
       "      <td>Videonow Blue Player Headphone</td>\n",
       "      <td>toys games</td>\n",
       "      <td>electronics for kids</td>\n",
       "    </tr>\n",
       "    <tr>\n",
       "      <th>1</th>\n",
       "      <td>CRYPTIQUE Spirit Board Ouija Occult</td>\n",
       "      <td>toys games</td>\n",
       "      <td>games</td>\n",
       "    </tr>\n",
       "    <tr>\n",
       "      <th>2</th>\n",
       "      <td>Andis 01690 Fade Master Clipper, Chrome</td>\n",
       "      <td>health personal care</td>\n",
       "      <td>personal care</td>\n",
       "    </tr>\n",
       "    <tr>\n",
       "      <th>3</th>\n",
       "      <td>28\" Blazingly Fast Victory EP Racing RC Boat EP777</td>\n",
       "      <td>toys games</td>\n",
       "      <td>hobbies</td>\n",
       "    </tr>\n",
       "    <tr>\n",
       "      <th>4</th>\n",
       "      <td>Chomp Baby Pacifier</td>\n",
       "      <td>baby products</td>\n",
       "      <td>feeding</td>\n",
       "    </tr>\n",
       "    <tr>\n",
       "      <th>5</th>\n",
       "      <td>Cotton Candy Machine</td>\n",
       "      <td>toys games</td>\n",
       "      <td>dress up pretend play</td>\n",
       "    </tr>\n",
       "    <tr>\n",
       "      <th>6</th>\n",
       "      <td>Fantastic 4 Movie Series II Deluxe 12\" Figure</td>\n",
       "      <td>toys games</td>\n",
       "      <td>action toy figures</td>\n",
       "    </tr>\n",
       "  </tbody>\n",
       "</table>\n",
       "</div>"
      ],
      "text/plain": [
       "                                                Title       Parent Category  \\\n",
       "0                      Videonow Blue Player Headphone            toys games   \n",
       "1                 CRYPTIQUE Spirit Board Ouija Occult            toys games   \n",
       "2             Andis 01690 Fade Master Clipper, Chrome  health personal care   \n",
       "3  28\" Blazingly Fast Victory EP Racing RC Boat EP777            toys games   \n",
       "4                                 Chomp Baby Pacifier         baby products   \n",
       "5                                Cotton Candy Machine            toys games   \n",
       "6       Fantastic 4 Movie Series II Deluxe 12\" Figure            toys games   \n",
       "\n",
       "          Child Category  \n",
       "0   electronics for kids  \n",
       "1                  games  \n",
       "2          personal care  \n",
       "3                hobbies  \n",
       "4                feeding  \n",
       "5  dress up pretend play  \n",
       "6     action toy figures  "
      ]
     },
     "execution_count": 2,
     "metadata": {},
     "output_type": "execute_result"
    },
    {
     "name": "stdout",
     "output_type": "stream",
     "text": [
      "Number of primary cats:  6\n",
      "Number of subcats:  64\n"
     ]
    }
   ],
   "source": [
    "data = pd.read_csv(\"/Users/jonny/Desktop/Dataset/Amazon Reviews/train_40k.csv\").loc[:, [\"Title\", \"Cat1\", \"Cat2\"]]\n",
    "data = data[~data.Title.isna()]\n",
    "\n",
    "small_data = data.groupby('Cat2', group_keys=False).apply(lambda x: x.sample(min(len(x), 300), \n",
    "                                                                             random_state = 42)).reset_index(drop = True)\n",
    "small_data.rename(columns = {\"Cat1\":\"Parent Category\", \n",
    "                             \"Cat2\":\"Child Category\"}).sample(2304).reset_index(drop = True).head(7)\n",
    "\n",
    "# split into train and test: \n",
    "X_train, X_test, children_train, children_test = train_test_split(small_data.Title, small_data.Cat2, \n",
    "                                                    stratify = small_data.Cat2,\n",
    "                                                    test_size=0.33, \n",
    "                                                    random_state=42)\n",
    "\n",
    "test_ind = X_test.index\n",
    "train_ind = X_train.index\n",
    "\n",
    "parent_train = small_data.Cat1[train_ind]\n",
    "parent_test = small_data.Cat1[test_ind]\n",
    "\n",
    "# prob a better way to do this but i too tired\n",
    "children_class_list = np.unique(children_train)\n",
    "parent_class_list = np.unique(parent_train)\n",
    "class_tree = {}\n",
    "for c in small_data.Cat2.unique() :\n",
    "    class_tree[c] = list(small_data.loc[small_data.Cat2 == c, \"Cat1\"])[0]\n",
    "\n",
    "print(\"Number of primary cats: \", len(parent_train.value_counts()))\n",
    "print(\"Number of subcats: \", len(children_test.value_counts()))"
   ]
  },
  {
   "cell_type": "markdown",
   "metadata": {},
   "source": [
    "Use `Gensim` to find tf-idf scores for each title"
   ]
  },
  {
   "cell_type": "code",
   "execution_count": 3,
   "metadata": {},
   "outputs": [
    {
     "name": "stdout",
     "output_type": "stream",
     "text": [
      "(1024, 9708)\n",
      "(1024, 4782)\n",
      "CPU times: user 913 ms, sys: 64.5 ms, total: 977 ms\n",
      "Wall time: 977 ms\n"
     ]
    }
   ],
   "source": [
    "%%time\n",
    "# find tf-idf scores for training set\n",
    "\n",
    "dct = Dictionary(X_train.map(lambda x: x.split(' ')))\n",
    "dct.filter_extremes(no_below=5, no_above=0.7, keep_n = 2 ** 10)\n",
    "dct.compactify()\n",
    "\n",
    "train_corpus = [dct.doc2bow(doc.split(' ')) for doc in X_train]  # convert corpus to BoW format\n",
    "tfidf_model = TfIdfTransformer()\n",
    "\n",
    "train_tfidf = tfidf_model.fit_transform(train_corpus)\n",
    "train_tfidf = corpus2dense(train_tfidf, num_terms = len(dct)) # can also use: corpus2csc\n",
    "print(train_tfidf.shape)\n",
    "\n",
    "test_corpus = [dct.doc2bow(doc.split(' ')) for doc in X_test] \n",
    "test_tfidf = corpus2dense(tfidf_model.transform(test_corpus), num_terms = len(dct))\n",
    "print(test_tfidf.shape)"
   ]
  },
  {
   "cell_type": "code",
   "execution_count": 4,
   "metadata": {},
   "outputs": [],
   "source": [
    "# Encode training labels for parent and children classes\n",
    "# dist.Categorical returns numeric categories, not a 1-hot encoded vector\n",
    "le = preprocessing.LabelEncoder()\n",
    "parent_target = le.fit_transform(parent_train)\n",
    "children_target = le.fit_transform(children_train)\n",
    "\n",
    "parent_target_test = le.fit_transform(parent_test)\n",
    "children_target_test = le.fit_transform(children_test)\n",
    "\n",
    "lb = LabelBinarizer()\n",
    "parent_binr = lb.fit_transform(parent_train)\n",
    "children_binr = lb.fit_transform(children_train)"
   ]
  },
  {
   "cell_type": "code",
   "execution_count": 6,
   "metadata": {},
   "outputs": [],
   "source": [
    "# helper function for HMC inference\n",
    "def run_inference(model, rng_key, X, Y, num_warmup = 10, num_samples = 100, num_chains = 2):\n",
    "    start = time.time()\n",
    "    kernel = NUTS(model)\n",
    "    print(\"Starting MCMC: \")\n",
    "    mcmc = MCMC(kernel, num_warmup = num_warmup, \n",
    "                num_samples = num_samples, \n",
    "                num_chains = num_chains, \n",
    "                progress_bar = False)\n",
    "    mcmc.run(rng_key, X, Y)\n",
    "    print('\\nMCMC elapsed time:', time.time() - start)\n",
    "    return mcmc\n",
    "\n",
    "# helper function for prediction\n",
    "def predict(model, rng_key, samples, X):\n",
    "    model = handlers.substitute(handlers.seed(model, rng_key), samples)\n",
    "    # note that Y will be sampled in the model because we pass Y=None here\n",
    "    model_trace = handlers.trace(model).get_trace(X=X, Y=None)\n",
    "    return model_trace['Y']['value']"
   ]
  },
  {
   "cell_type": "markdown",
   "metadata": {},
   "source": [
    "# Parent Posterior as Child Prior"
   ]
  },
  {
   "cell_type": "code",
   "execution_count": 71,
   "metadata": {},
   "outputs": [],
   "source": [
    "def parent_model(X, Y=None):\n",
    "#     print(\"hello\")\n",
    "    if Y == None : \n",
    "        dim_Y = 6\n",
    "    else :\n",
    "        dim_Y = Y.shape[1]\n",
    "    beta = numpyro.sample(\"beta\", dist.Normal(jnp.zeros((X.shape[1], dim_Y)), jnp.ones((X.shape[1], dim_Y))*2)) \n",
    "    err = numpyro.sample(\"err\", dist.Normal(0., 1.))\n",
    "    resp = jnp.matmul(X, beta) + err\n",
    "    probs = softmax(resp) # jax softmax, not scipy\n",
    "#     print(\"X shape: \", X.shape)\n",
    "#     print(\"beta shape: \", beta.shape)\n",
    "#     print(\"resp shape: \", resp.shape)\n",
    "#     print(\"Y shape: \", Y.shape)\n",
    "#     numpyro.sample('Y', dist.Categorical(probs = probs), obs=Y)\n",
    "    numpyro.sample(\"Y\", dist.Multinomial(probs = probs), obs = Y)"
   ]
  },
  {
   "cell_type": "code",
   "execution_count": 72,
   "metadata": {},
   "outputs": [
    {
     "name": "stdout",
     "output_type": "stream",
     "text": [
      "Starting MCMC: \n",
      "\n",
      "MCMC elapsed time: 7.122047185897827\n",
      "MCMC complete\n"
     ]
    }
   ],
   "source": [
    "X = jnp.asarray(train_tfidf.T, dtype = \"float32\")\n",
    "Y = jnp.asarray(parent_binr, dtype = \"float32\") # binarized labels\n",
    "\n",
    "_num_chains = 4\n",
    "_num_samples = 200\n",
    "numpyro.set_host_device_count(_num_chains)\n",
    "rng_key, rng_key_predict = random.split(random.PRNGKey(0))\n",
    "mcmc = run_inference(model = parent_model, \n",
    "                     rng_key = rng_key, \n",
    "                     X = X, Y = Y,\n",
    "                     num_warmup = 50, \n",
    "                     num_samples = _num_samples, \n",
    "                     num_chains = _num_chains)\n",
    "parent_samples = mcmc.get_samples()\n",
    "print(\"MCMC complete\")"
   ]
  },
  {
   "cell_type": "code",
   "execution_count": 73,
   "metadata": {},
   "outputs": [
    {
     "name": "stdout",
     "output_type": "stream",
     "text": [
      "Training set accuracy:  0.8685620107128141\n",
      "CPU times: user 45min 36s, sys: 18.6 s, total: 45min 54s\n",
      "Wall time: 7min 20s\n"
     ]
    }
   ],
   "source": [
    "%%time\n",
    "# predict Y_test at inputs X_test\n",
    "vmap_args = (parent_samples, random.split(rng_key_predict, _num_chains * _num_samples))\n",
    "predictions = vmap(lambda samples, rng_key: predict(parent_model, rng_key, samples, X))(*vmap_args)\n",
    "\n",
    "# compute mean prediction and confidence interval around median\n",
    "mean_prediction = jnp.mean(predictions, axis=0)\n",
    "percentiles = np.percentile(predictions, [5.0, 95.0], axis=0)\n",
    "\n",
    "class_predictions = pd.DataFrame(mean_prediction).apply(np.argmax, axis = 1)\n",
    "print(\"Training set accuracy: \", np.mean(class_predictions == parent_target))"
   ]
  },
  {
   "cell_type": "code",
   "execution_count": 74,
   "metadata": {},
   "outputs": [
    {
     "name": "stdout",
     "output_type": "stream",
     "text": [
      "Test set accuracy:  0.8103304056879966\n"
     ]
    }
   ],
   "source": [
    "test_predictions = vmap(lambda samples, rng_key: predict(parent_model, rng_key, samples, test_tfidf.T))(*vmap_args)\n",
    "\n",
    "mean_test_prediction = jnp.mean(test_predictions, axis=0)\n",
    "\n",
    "test_class_predictions = pd.DataFrame(mean_test_prediction).apply(np.argmax, axis = 1)\n",
    "print(\"Test set accuracy: \", np.mean(test_class_predictions == parent_target_test))"
   ]
  },
  {
   "cell_type": "code",
   "execution_count": 75,
   "metadata": {},
   "outputs": [
    {
     "data": {
      "image/png": "[encoded data removed]",
      "text/plain": [
       "<Figure size 432x288 with 1 Axes>"
      ]
     },
     "metadata": {
      "image/png": {
       "height": 248,
       "width": 382
      },
      "needs_background": "light"
     },
     "output_type": "display_data"
    }
   ],
   "source": [
    "sns.histplot(mcmc.get_samples()[\"err\"], kde = True);"
   ]
  },
  {
   "cell_type": "markdown",
   "metadata": {},
   "source": [
    "Use Posterior Mean as Prior Mean"
   ]
  },
  {
   "cell_type": "code",
   "execution_count": 77,
   "metadata": {},
   "outputs": [
    {
     "data": {
      "text/html": [
       "<div>\n",
       "<style scoped>\n",
       "    .dataframe tbody tr th:only-of-type {\n",
       "        vertical-align: middle;\n",
       "    }\n",
       "\n",
       "    .dataframe tbody tr th {\n",
       "        vertical-align: top;\n",
       "    }\n",
       "\n",
       "    .dataframe thead th {\n",
       "        text-align: right;\n",
       "    }\n",
       "</style>\n",
       "<table border=\"1\" class=\"dataframe\">\n",
       "  <thead>\n",
       "    <tr style=\"text-align: right;\">\n",
       "      <th></th>\n",
       "      <th>action toy figures</th>\n",
       "      <th>arts crafts</th>\n",
       "      <th>baby child care</th>\n",
       "      <th>baby food</th>\n",
       "      <th>baby toddler toys</th>\n",
       "      <th>bath body</th>\n",
       "      <th>bathing skin care</th>\n",
       "      <th>beverages</th>\n",
       "      <th>birds</th>\n",
       "      <th>breads bakery</th>\n",
       "      <th>...</th>\n",
       "      <th>sexual wellness</th>\n",
       "      <th>skin care</th>\n",
       "      <th>small animals</th>\n",
       "      <th>snack food</th>\n",
       "      <th>sports outdoor play</th>\n",
       "      <th>strollers</th>\n",
       "      <th>stuffed animals plush</th>\n",
       "      <th>tools accessories</th>\n",
       "      <th>tricycles</th>\n",
       "      <th>vehicles remote control</th>\n",
       "    </tr>\n",
       "  </thead>\n",
       "  <tbody>\n",
       "    <tr>\n",
       "      <th>0</th>\n",
       "      <td>1.189016</td>\n",
       "      <td>1.189016</td>\n",
       "      <td>1.258788</td>\n",
       "      <td>-0.094080</td>\n",
       "      <td>1.189016</td>\n",
       "      <td>0.283161</td>\n",
       "      <td>-1.615682</td>\n",
       "      <td>-0.094080</td>\n",
       "      <td>-1.298441</td>\n",
       "      <td>-0.094080</td>\n",
       "      <td>...</td>\n",
       "      <td>1.258788</td>\n",
       "      <td>0.283161</td>\n",
       "      <td>-1.298441</td>\n",
       "      <td>-0.094080</td>\n",
       "      <td>1.189016</td>\n",
       "      <td>-1.615682</td>\n",
       "      <td>1.189016</td>\n",
       "      <td>0.283161</td>\n",
       "      <td>1.189016</td>\n",
       "      <td>1.189016</td>\n",
       "    </tr>\n",
       "    <tr>\n",
       "      <th>1</th>\n",
       "      <td>-1.127307</td>\n",
       "      <td>-1.127307</td>\n",
       "      <td>0.311698</td>\n",
       "      <td>-1.267747</td>\n",
       "      <td>-1.127307</td>\n",
       "      <td>2.672709</td>\n",
       "      <td>0.245926</td>\n",
       "      <td>-1.267747</td>\n",
       "      <td>-1.029399</td>\n",
       "      <td>-1.267747</td>\n",
       "      <td>...</td>\n",
       "      <td>0.311698</td>\n",
       "      <td>2.672709</td>\n",
       "      <td>-1.029399</td>\n",
       "      <td>-1.267747</td>\n",
       "      <td>-1.127307</td>\n",
       "      <td>0.245926</td>\n",
       "      <td>-1.127307</td>\n",
       "      <td>2.672709</td>\n",
       "      <td>-1.127307</td>\n",
       "      <td>-1.127307</td>\n",
       "    </tr>\n",
       "    <tr>\n",
       "      <th>2</th>\n",
       "      <td>1.112809</td>\n",
       "      <td>1.112809</td>\n",
       "      <td>0.752100</td>\n",
       "      <td>-1.578035</td>\n",
       "      <td>1.112809</td>\n",
       "      <td>-0.089645</td>\n",
       "      <td>-0.105106</td>\n",
       "      <td>-1.578035</td>\n",
       "      <td>0.341998</td>\n",
       "      <td>-1.578035</td>\n",
       "      <td>...</td>\n",
       "      <td>0.752100</td>\n",
       "      <td>-0.089645</td>\n",
       "      <td>0.341998</td>\n",
       "      <td>-1.578035</td>\n",
       "      <td>1.112809</td>\n",
       "      <td>-0.105106</td>\n",
       "      <td>1.112809</td>\n",
       "      <td>-0.089645</td>\n",
       "      <td>1.112809</td>\n",
       "      <td>1.112809</td>\n",
       "    </tr>\n",
       "    <tr>\n",
       "      <th>3</th>\n",
       "      <td>0.695724</td>\n",
       "      <td>0.695724</td>\n",
       "      <td>0.157758</td>\n",
       "      <td>-0.393810</td>\n",
       "      <td>0.695724</td>\n",
       "      <td>0.789911</td>\n",
       "      <td>-0.236455</td>\n",
       "      <td>-0.393810</td>\n",
       "      <td>-0.891724</td>\n",
       "      <td>-0.393810</td>\n",
       "      <td>...</td>\n",
       "      <td>0.157758</td>\n",
       "      <td>0.789911</td>\n",
       "      <td>-0.891724</td>\n",
       "      <td>-0.393810</td>\n",
       "      <td>0.695724</td>\n",
       "      <td>-0.236455</td>\n",
       "      <td>0.695724</td>\n",
       "      <td>0.789911</td>\n",
       "      <td>0.695724</td>\n",
       "      <td>0.695724</td>\n",
       "    </tr>\n",
       "    <tr>\n",
       "      <th>4</th>\n",
       "      <td>2.937419</td>\n",
       "      <td>2.937419</td>\n",
       "      <td>0.071968</td>\n",
       "      <td>-1.379720</td>\n",
       "      <td>2.937419</td>\n",
       "      <td>-1.184570</td>\n",
       "      <td>0.890030</td>\n",
       "      <td>-1.379720</td>\n",
       "      <td>-1.464024</td>\n",
       "      <td>-1.379720</td>\n",
       "      <td>...</td>\n",
       "      <td>0.071968</td>\n",
       "      <td>-1.184570</td>\n",
       "      <td>-1.464024</td>\n",
       "      <td>-1.379720</td>\n",
       "      <td>2.937419</td>\n",
       "      <td>0.890030</td>\n",
       "      <td>2.937419</td>\n",
       "      <td>-1.184570</td>\n",
       "      <td>2.937419</td>\n",
       "      <td>2.937419</td>\n",
       "    </tr>\n",
       "  </tbody>\n",
       "</table>\n",
       "<p>5 rows × 64 columns</p>\n",
       "</div>"
      ],
      "text/plain": [
       "   action toy figures  arts crafts  baby child care  baby food  \\\n",
       "0            1.189016     1.189016         1.258788  -0.094080   \n",
       "1           -1.127307    -1.127307         0.311698  -1.267747   \n",
       "2            1.112809     1.112809         0.752100  -1.578035   \n",
       "3            0.695724     0.695724         0.157758  -0.393810   \n",
       "4            2.937419     2.937419         0.071968  -1.379720   \n",
       "\n",
       "   baby toddler toys  bath body  bathing skin care  beverages     birds  \\\n",
       "0           1.189016   0.283161          -1.615682  -0.094080 -1.298441   \n",
       "1          -1.127307   2.672709           0.245926  -1.267747 -1.029399   \n",
       "2           1.112809  -0.089645          -0.105106  -1.578035  0.341998   \n",
       "3           0.695724   0.789911          -0.236455  -0.393810 -0.891724   \n",
       "4           2.937419  -1.184570           0.890030  -1.379720 -1.464024   \n",
       "\n",
       "   breads bakery  ...  sexual wellness  skin care  small animals  snack food  \\\n",
       "0      -0.094080  ...         1.258788   0.283161      -1.298441   -0.094080   \n",
       "1      -1.267747  ...         0.311698   2.672709      -1.029399   -1.267747   \n",
       "2      -1.578035  ...         0.752100  -0.089645       0.341998   -1.578035   \n",
       "3      -0.393810  ...         0.157758   0.789911      -0.891724   -0.393810   \n",
       "4      -1.379720  ...         0.071968  -1.184570      -1.464024   -1.379720   \n",
       "\n",
       "   sports outdoor play  strollers  stuffed animals plush  tools accessories  \\\n",
       "0             1.189016  -1.615682               1.189016           0.283161   \n",
       "1            -1.127307   0.245926              -1.127307           2.672709   \n",
       "2             1.112809  -0.105106               1.112809          -0.089645   \n",
       "3             0.695724  -0.236455               0.695724           0.789911   \n",
       "4             2.937419   0.890030               2.937419          -1.184570   \n",
       "\n",
       "   tricycles  vehicles remote control  \n",
       "0   1.189016                 1.189016  \n",
       "1  -1.127307                -1.127307  \n",
       "2   1.112809                 1.112809  \n",
       "3   0.695724                 0.695724  \n",
       "4   2.937419                 2.937419  \n",
       "\n",
       "[5 rows x 64 columns]"
      ]
     },
     "execution_count": 77,
     "metadata": {},
     "output_type": "execute_result"
    }
   ],
   "source": [
    "# use the posterior of the parent regression as the prior mean for the child regression\n",
    "beta_posterior = parent_samples[\"beta\"]\n",
    "posterior_mean = np.apply_along_axis(np.mean, 0, beta_posterior)\n",
    "\n",
    "posterior_mean_df = pd.DataFrame(posterior_mean, columns = parent_class_list)\n",
    "\n",
    "prior_mean = pd.DataFrame()\n",
    "for c in children_class_list :\n",
    "    prior_mean[c] = posterior_mean_df[class_tree[c]]\n",
    "    \n",
    "prior_mean.head()"
   ]
  },
  {
   "cell_type": "code",
   "execution_count": 78,
   "metadata": {},
   "outputs": [],
   "source": [
    "# model for the child classes\n",
    "def child_model(X, Y=None):\n",
    "#     print(\"hello\")\n",
    "    beta = numpyro.sample(\"beta\", dist.Normal(jnp_prior_mean, jnp.ones(jnp_prior_mean.shape)*2))\n",
    "    err = numpyro.sample(\"err\", dist.Normal(0., 0.5))\n",
    "    resp = jnp.matmul(X, beta) + err\n",
    "    probs = softmax(resp) # jax softmax, not scipy\n",
    "#     print(\"X shape: \", X.shape)\n",
    "#     print(\"beta shape: \", beta.shape)\n",
    "#     print(\"resp shape: \", resp.shape)\n",
    "#     print(\"Y shape: \", Y.shape)\n",
    "    numpyro.sample(\"Y\", dist.Multinomial(probs = probs), obs = Y)"
   ]
  },
  {
   "cell_type": "code",
   "execution_count": 79,
   "metadata": {},
   "outputs": [
    {
     "name": "stdout",
     "output_type": "stream",
     "text": [
      "Starting MCMC: \n"
     ]
    },
    {
     "name": "stderr",
     "output_type": "stream",
     "text": [
      "/Users/jonny/anaconda3/envs/kaggle/lib/python3.7/site-packages/numpyro/infer/mcmc.py:483: UserWarning: There are not enough devices to run parallel chains: expected 4 but got 1. Chains will be drawn sequentially. If you are running MCMC in CPU, consider to use `numpyro.set_host_device_count(4)` at the beginning of your program.\n",
      "  .format(self.num_chains, xla_bridge.device_count(), self.num_chains))\n"
     ]
    },
    {
     "name": "stdout",
     "output_type": "stream",
     "text": [
      "\n",
      "MCMC elapsed time: 7.060860872268677\n",
      "MCMC complete\n"
     ]
    }
   ],
   "source": [
    "X = jnp.asarray(train_tfidf.T, dtype = \"float32\")\n",
    "Y = jnp.asarray(children_binr, dtype = \"float32\") # binarized labels\n",
    "jnp_prior_mean = jnp.asarray(prior_mean, dtype = \"float32\")\n",
    "\n",
    "_num_chains = 4\n",
    "_num_samples = 200\n",
    "numpyro.set_host_device_count(_num_chains)\n",
    "rng_key, rng_key_predict = random.split(random.PRNGKey(0))\n",
    "\n",
    "child_model_reparam = reparam(child_model, config={'beta': LocScaleReparam(0)})\n",
    "\n",
    "child_mcmc = run_inference(model = child_model_reparam, \n",
    "                           rng_key = rng_key, \n",
    "                           X = X, Y = Y,\n",
    "                           num_warmup = 50, \n",
    "                           num_samples = _num_samples, \n",
    "                           num_chains = _num_chains)\n",
    "child_samples = child_mcmc.get_samples()\n",
    "print(\"MCMC complete\")"
   ]
  },
  {
   "cell_type": "code",
   "execution_count": 335,
   "metadata": {},
   "outputs": [
    {
     "name": "stdout",
     "output_type": "stream",
     "text": [
      "Train set accuracy, child categories:  0.5079316028018129\n"
     ]
    }
   ],
   "source": [
    "%%time\n",
    "# predict Y_test at inputs X_test\n",
    "vmap_args = (child_samples, random.split(rng_key_predict, _num_chains * _num_samples))\n",
    "children_predictions = vmap(lambda samples, rng_key: predict(child_model, rng_key, samples, X))(*vmap_args)\n",
    "\n",
    "# compute mean prediction and confidence interval around median\n",
    "mean_children_prediction = jnp.mean(children_predictions, axis=0)\n",
    "percentiles = np.percentile(children_predictions, [5.0, 95.0], axis=0)\n",
    "\n",
    "child_class_predictions = pd.DataFrame(mean_children_prediction).apply(np.argmax, axis = 1)\n",
    "print(\"Train set accuracy, child categories: \", np.mean(child_class_predictions == children_target))"
   ]
  },
  {
   "cell_type": "code",
   "execution_count": 336,
   "metadata": {},
   "outputs": [
    {
     "name": "stdout",
     "output_type": "stream",
     "text": [
      "Test set accuracy, child categories:  0.4374738603094939\n",
      "CPU times: user 27.6 s, sys: 14.3 s, total: 41.9 s\n",
      "Wall time: 16 s\n"
     ]
    }
   ],
   "source": [
    "%%time\n",
    "child_test_predictions = vmap(lambda samples, rng_key: predict(child_model, rng_key, samples, test_tfidf.T))(*vmap_args)\n",
    "\n",
    "mean_child_test_prediction = jnp.mean(child_test_predictions, axis=0)\n",
    "\n",
    "test_child_class_predictions = pd.DataFrame(mean_child_test_prediction).apply(np.argmax, axis = 1)\n",
    "print(\"Test set accuracy, child categories: \", np.mean(test_child_class_predictions == children_target_test))"
   ]
  },
  {
   "cell_type": "markdown",
   "metadata": {},
   "source": [
    "### Flat Classification\n",
    "\n",
    "Flatten out the hierarchy and fit a classification model to the classes. Compare results, especially for low data classes"
   ]
  },
  {
   "cell_type": "code",
   "execution_count": 18,
   "metadata": {},
   "outputs": [
    {
     "name": "stdout",
     "output_type": "stream",
     "text": [
      "Ridge classifier train set accuracy, children classes:  0.7184796044499382\n",
      "Ridge classifier test set accuracy, children classes:  0.6273525721455459\n",
      "\n",
      "SVM classifier train set accuracy, children classes:  0.7481458590852905\n",
      "SVM classifier test set accuracy, children classes:  0.6288163948138854\n",
      "\n",
      "Logistic Regression train set accuracy, children classes:  0.7081788215904409\n",
      "Logistic Regression test set accuracy, children classes:  0.6286072772898369\n"
     ]
    }
   ],
   "source": [
    "ridge_clf = RidgeClassifier().fit(train_tfidf.T, children_target)\n",
    "print(\"Ridge classifier train set accuracy, children classes: \", ridge_clf.score(train_tfidf.T, children_target))\n",
    "print(\"Ridge classifier test set accuracy, children classes: \", ridge_clf.score(test_tfidf.T, children_target_test))\n",
    "\n",
    "print('')\n",
    "\n",
    "# linear SVM\n",
    "sgd_clf = SGDClassifier(loss = \"hinge\", # linear SVM, \"log\" for logistic regression\n",
    "                        max_iter=1000, \n",
    "                        n_jobs = -1, \n",
    "                        random_state = 42,\n",
    "                        tol=1e-3).fit(train_tfidf.T, children_target)\n",
    "print(\"SVM classifier train set accuracy, children classes: \", sgd_clf.score(train_tfidf.T, children_target))\n",
    "print(\"SVM classifier test set accuracy, children classes: \", sgd_clf.score(test_tfidf.T, children_target_test))\n",
    "\n",
    "print('')\n",
    "\n",
    "# logistic regression\n",
    "log_reg = SGDClassifier(loss = \"log\", # linear SVM, \"log\" for logistic regression\n",
    "                        max_iter=1000, \n",
    "                        n_jobs = -1, \n",
    "                        random_state = 42,\n",
    "                        tol=1e-3).fit(train_tfidf.T, children_target)\n",
    "# log_reg.predict_proba(test_tfidf.T)\n",
    "print(\"Logistic Regression train set accuracy, children classes: \", log_reg.score(train_tfidf.T, children_target))\n",
    "print(\"Logistic Regression test set accuracy, children classes: \", log_reg.score(test_tfidf.T, children_target_test))\n",
    "log_reg_predictions = le.inverse_transform(log_reg.predict(test_tfidf.T))"
   ]
  },
  {
   "cell_type": "markdown",
   "metadata": {},
   "source": [
    "# Non-Centered Hiearchical Model \n",
    "\n",
    "Take a less explicit approach to modelling the hierarchical structure by using 1 model. "
   ]
  },
  {
   "cell_type": "code",
   "execution_count": 7,
   "metadata": {},
   "outputs": [],
   "source": [
    "# make a matrix that we can use to multiply against `posterior_mean` in order to get `prior_mean`\n",
    "alpha = np.zeros((len(parent_class_list), len(children_class_list)))\n",
    "\n",
    "for i, c in enumerate(children_class_list) :\n",
    "    alpha[:, i] = parent_class_list == class_tree[c]\n",
    "# prior_mean2 = jnp.matmul(posterior_mean, alpha)"
   ]
  },
  {
   "cell_type": "code",
   "execution_count": 15,
   "metadata": {},
   "outputs": [],
   "source": [
    "# non-centered hierarchical model\n",
    "def hierarchical_model (X, Y=None, _num_parent_classes = 6, _alpha = alpha):\n",
    "#     print(\"hello\")\n",
    "    dim_X = X.shape[1]\n",
    "    # hierarchical prior: beta_0 ~ N(0, 1) \n",
    "    beta_0 = numpyro.sample(\"beta_0\", dist.Normal(jnp.zeros((dim_X, np.array([_num_parent_classes])[0])), \n",
    "                                                  jnp.ones((dim_X, np.array([_num_parent_classes])[0]))))\n",
    "\n",
    "    # construct prior for $\\beta$ by multiplying with \\alpha \n",
    "    jnp_prior_mean = jnp.matmul(beta_0, _alpha)\n",
    "\n",
    "    # now we can sample beta        \n",
    "    beta = numpyro.sample(\"beta\", dist.Normal(jnp_prior_mean, jnp.ones(jnp_prior_mean.shape)))\n",
    "    err = numpyro.sample(\"err\", dist.Normal(0., 0.5))\n",
    "    resp = jnp.matmul(X, beta) + err\n",
    "    probs = softmax(resp) \n",
    "#     print(\"X shape: \", X.shape)\n",
    "#     print(\"beta shape: \", beta.shape)\n",
    "#     print(\"Y shape: \", Y.shape)\n",
    "    numpyro.sample(\"Y\", dist.Multinomial(probs = probs), obs = Y)"
   ]
  },
  {
   "cell_type": "code",
   "execution_count": 16,
   "metadata": {},
   "outputs": [
    {
     "name": "stdout",
     "output_type": "stream",
     "text": [
      "Starting MCMC: \n",
      "\n",
      "MCMC elapsed time: 8.706219911575317\n",
      "MCMC complete\n"
     ]
    }
   ],
   "source": [
    "num_parent_classes = len(parent_class_list)\n",
    "X = jnp.asarray(train_tfidf.T, dtype = \"float32\")\n",
    "Y = jnp.asarray(children_binr, dtype = \"float32\") # binarized labels\n",
    "\n",
    "_num_chains = 4\n",
    "_num_samples = 500\n",
    "numpyro.set_host_device_count(_num_chains)\n",
    "rng_key, rng_key_predict = random.split(random.PRNGKey(0))\n",
    "\n",
    "reparam_model = reparam(hierarchical_model, config={'beta': LocScaleReparam(0)})\n",
    "\n",
    "non_centered_mcmc = run_inference(model = reparam_model, \n",
    "                           rng_key = rng_key, \n",
    "                           X = X, Y = Y, \n",
    "                           num_warmup = 50, \n",
    "                           num_samples = _num_samples, \n",
    "                           num_chains = _num_chains)\n",
    "nc_samples = non_centered_mcmc.get_samples()\n",
    "print(\"MCMC complete\")"
   ]
  },
  {
   "cell_type": "code",
   "execution_count": null,
   "metadata": {},
   "outputs": [],
   "source": [
    "%%time\n",
    "# predict Y_test at inputs X_test\n",
    "vmap_args = (nc_samples, random.split(rng_key_predict, _num_chains * _num_samples))\n",
    "children_predictions = vmap(lambda samples, rng_key: predict(reparam_model, rng_key, samples, X))(*vmap_args)\n",
    "\n",
    "# compute mean prediction and confidence interval around median\n",
    "mean_children_prediction = jnp.mean(children_predictions, axis=0)\n",
    "percentiles = np.percentile(children_predictions, [5.0, 95.0], axis=0)\n",
    "\n",
    "child_class_predictions = pd.DataFrame(mean_children_prediction).apply(np.argmax, axis = 1)\n",
    "print(\"Train set accuracy, child categories: \", np.mean(child_class_predictions == children_target))"
   ]
  },
  {
   "cell_type": "code",
   "execution_count": 15,
   "metadata": {},
   "outputs": [
    {
     "name": "stdout",
     "output_type": "stream",
     "text": [
      "Test set accuracy, child categories:  0.6277708071936429\n",
      "CPU times: user 21.3 s, sys: 5.01 s, total: 26.3 s\n",
      "Wall time: 7.43 s\n"
     ]
    }
   ],
   "source": [
    "%%time\n",
    "child_test_predictions = vmap(lambda samples, rng_key: predict(reparam_model, rng_key, samples, test_tfidf.T))(*vmap_args)\n",
    "\n",
    "mean_child_test_prediction = jnp.mean(child_test_predictions, axis=0)\n",
    "\n",
    "test_child_class_predictions = pd.DataFrame(mean_child_test_prediction).apply(np.argmax, axis = 1)\n",
    "print(\"Test set accuracy, child categories: \", np.mean(test_child_class_predictions == children_target_test))"
   ]
  },
  {
   "cell_type": "code",
   "execution_count": 40,
   "metadata": {},
   "outputs": [
    {
     "data": {
      "image/png": "[encoded data removed]",
      "text/plain": [
       "<Figure size 432x288 with 1 Axes>"
      ]
     },
     "metadata": {
      "image/png": {
       "height": 248,
       "width": 385
      },
      "needs_background": "light"
     },
     "output_type": "display_data"
    }
   ],
   "source": [
    "sns.histplot(nc_samples[\"err\"], kde = True);"
   ]
  },
  {
   "cell_type": "markdown",
   "metadata": {},
   "source": [
    "## Compare Classifiers\n",
    "\n",
    "When comparing classifiers, consider out-of-distribution examples as well as the performance of low-data classes.\n",
    "\n",
    "Have to also compare the parent categories. This is where the hierarchical model should come out on top"
   ]
  },
  {
   "cell_type": "code",
   "execution_count": 107,
   "metadata": {},
   "outputs": [],
   "source": [
    "from sklearn.metrics import precision_score, recall_score"
   ]
  },
  {
   "cell_type": "code",
   "execution_count": 113,
   "metadata": {},
   "outputs": [
    {
     "data": {
      "text/plain": [
       "[('meat poultry', 0.4117647058823529),\n",
       " ('baby food', 0.3076923076923077),\n",
       " ('sauces dips', 0.16666666666666666),\n",
       " ('produce', 0.5833333333333334),\n",
       " ('meat seafood', 0.0),\n",
       " ('small animals', 0.0)]"
      ]
     },
     "execution_count": 113,
     "metadata": {},
     "output_type": "execute_result"
    },
    {
     "data": {
      "text/plain": [
       "[('meat poultry', 0.5),\n",
       " ('baby food', 0.3076923076923077),\n",
       " ('sauces dips', 0.15384615384615385),\n",
       " ('produce', 0.5833333333333334),\n",
       " ('meat seafood', 0.0),\n",
       " ('small animals', 0.0)]"
      ]
     },
     "execution_count": 113,
     "metadata": {},
     "output_type": "execute_result"
    }
   ],
   "source": [
    "chilren_test_predictions = le.inverse_transform(test_child_class_predictions)\n",
    "\n",
    "low_data_classes = list(children_train.value_counts().index[children_train.value_counts() < 30])\n",
    "\n",
    "list(zip(low_data_classes, precision_score(y_true = children_test, y_pred = chilren_test_predictions, \n",
    "                                average=None, labels = low_data_classes, zero_division = 0)))\n",
    "\n",
    "list(zip(low_data_classes, recall_score(y_true = children_test, y_pred = chilren_test_predictions, \n",
    "                                average=None, labels = low_data_classes, zero_division = 0)))"
   ]
  },
  {
   "cell_type": "code",
   "execution_count": 124,
   "metadata": {},
   "outputs": [
    {
     "name": "stdout",
     "output_type": "stream",
     "text": [
      "Hierarchical model parent accuracy:  0.8086574654956086\n",
      " \n",
      "Logistic regression parent accuracy:  0.8115851108322878\n"
     ]
    }
   ],
   "source": [
    "# parent category accuracy:\n",
    "\n",
    "print(\"Hierarchical model parent accuracy: \", np.mean(parent_test == list(map(lambda x: class_tree[x], chilren_test_predictions))))\n",
    "\n",
    "print(' ')\n",
    "\n",
    "print(\"Logistic regression parent accuracy: \", \n",
    "      np.mean(parent_test == list(map(lambda x: class_tree[x], log_reg_predictions))))"
   ]
  },
  {
   "cell_type": "code",
   "execution_count": 125,
   "metadata": {},
   "outputs": [],
   "source": [
    "print(classification_report_imbalanced(y_true = children_target_test, \n",
    "                                       y_pred = test_child_class_predictions,\n",
    "                                       target_names = children_class_list))\n",
    "\n",
    "# logistic regression classification metrics:\n",
    "print(classification_report_imbalanced(y_true = children_target_test, \n",
    "                                       y_pred = log_reg.predict(test_tfidf.T),\n",
    "                                       target_names = children_class_list))"
   ]
  },
  {
   "cell_type": "markdown",
   "metadata": {},
   "source": [
    "### Graphviz Representation\n",
    "\n",
    "http://magjac.com/graphviz-visual-editor/"
   ]
  },
  {
   "cell_type": "code",
   "execution_count": 39,
   "metadata": {},
   "outputs": [],
   "source": [
    "td = {}\n",
    "for k in class_tree.keys() :\n",
    "    if class_tree[k] not in td :\n",
    "        td[class_tree[k]] = [k]\n",
    "    elif len(td[class_tree[k]]) < 5 : \n",
    "        td[class_tree[k]].append(k)\n",
    "\n",
    "print (\"digraph G {\\nrankdir=LR;\")\n",
    "n = 0\n",
    "lookup = {}\n",
    "for root in td.keys():\n",
    "    if not (root in lookup):\n",
    "        lookup[root] = n\n",
    "        print ('n%d [label=\"%s\" fontsize=18 width=0.5];' % (n,root))\n",
    "        n += 1\n",
    "    for leaf in td[root]:\n",
    "        if not (leaf in lookup):\n",
    "            lookup[leaf] = n\n",
    "            print ('n%d [label=\"%s\"];' % (n,leaf))\n",
    "            n += 1\n",
    "        print ('n%d -> n%d;' % (lookup[root],lookup[leaf]))\n",
    "\n",
    "print (\"}\")"
   ]
  }
 ],
 "metadata": {
  "kernelspec": {
   "display_name": "Python 3",
   "language": "python",
   "name": "python3"
  },
  "language_info": {
   "codemirror_mode": {
    "name": "ipython",
    "version": 3
   },
   "file_extension": ".py",
   "mimetype": "text/x-python",
   "name": "python",
   "nbconvert_exporter": "python",
   "pygments_lexer": "ipython3",
   "version": "3.7.7"
  }
 },
 "nbformat": 4,
 "nbformat_minor": 4
}
