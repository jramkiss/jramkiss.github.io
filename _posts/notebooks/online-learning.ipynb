{
 "cells": [
  {
   "cell_type": "markdown",
   "id": "a9fc664b",
   "metadata": {},
   "source": [
    "# Online Bayesian Linear Regression (Recursive Least Squares)\n",
    "\n",
    "Based on: https://github.com/probml/dynamax/blob/main/docs/notebooks/linear_gaussian_ssm/kf_linreg.ipynb"
   ]
  },
  {
   "cell_type": "code",
   "execution_count": 1,
   "id": "c8d5c19b",
   "metadata": {},
   "outputs": [],
   "source": [
    "from jax import numpy as jnp\n",
    "\n",
    "import matplotlib.pyplot as plt\n",
    "import seaborn as sns; sns.set()\n",
    "%matplotlib inline\n",
    "%config InlineBackend.figure_format = 'retina'\n",
    "\n",
    "# from dynamax.linear_gaussian_ssm import LinearGaussianSSM"
   ]
  },
  {
   "cell_type": "code",
   "execution_count": 2,
   "id": "ea52c08c",
   "metadata": {},
   "outputs": [],
   "source": [
    "n_obs = 21\n",
    "x = jnp.linspace(0, 20, n_obs)\n",
    "X = jnp.column_stack((jnp.ones_like(x), x))  # Design matrix.\n",
    "y = jnp.array(\n",
    "    [2.486, -0.303, -4.053, -4.336, -6.174, -5.604, -3.507, -2.326, -4.638, -0.233, -1.986, 1.028, -2.264,\n",
    "     -0.451, 1.167, 6.652, 4.145, 5.268, 6.34, 9.626, 14.784])"
   ]
  },
  {
   "cell_type": "code",
   "execution_count": 3,
   "id": "a3843ea4",
   "metadata": {},
   "outputs": [],
   "source": [
    "F = jnp.eye(2)\n",
    "Q = jnp.zeros((2, 2))  # No parameter drift.\n",
    "obs_var = 1.0\n",
    "R = jnp.ones((1, 1)) * obs_var\n",
    "mu0 = jnp.zeros(2)\n",
    "Sigma0 = jnp.eye(2) * 10.0"
   ]
  },
  {
   "cell_type": "code",
   "execution_count": null,
   "id": "ed492871",
   "metadata": {},
   "outputs": [],
   "source": [
    "# the input_dim = 0 since we encode the covariates into the non-stationary emission matrix\n",
    "lgssm = LinearGaussianSSM(state_dim = 2, emission_dim = 1, input_dim = 0)\n",
    "params, _ = lgssm.initialize(\n",
    "    initial_mean=mu0,\n",
    "    initial_covariance=Sigma0,\n",
    "    dynamics_weights=F,\n",
    "    dynamics_covariance=Q,\n",
    "    emission_weights=X[:, None, :], # (t, 1, D) where D = num input features\n",
    "    emission_covariance=R,\n",
    "    )"
   ]
  },
  {
   "cell_type": "markdown",
   "id": "57e634f4",
   "metadata": {},
   "source": [
    "#### Online Inference"
   ]
  },
  {
   "cell_type": "code",
   "execution_count": null,
   "id": "c94511a1",
   "metadata": {},
   "outputs": [],
   "source": [
    "lgssm_posterior = lgssm.filter(params, y[:, None]) # reshape y to be (T,1)\n",
    "kf_results = (lgssm_posterior.filtered_means, lgssm_posterior.filtered_covariances)"
   ]
  },
  {
   "cell_type": "markdown",
   "id": "b674f95a",
   "metadata": {},
   "source": [
    "#### Offline Inference"
   ]
  },
  {
   "cell_type": "code",
   "execution_count": 4,
   "id": "dcc812da",
   "metadata": {},
   "outputs": [],
   "source": [
    "posterior_prec = jnp.linalg.inv(Sigma0) + X.T @ X / obs_var\n",
    "b = jnp.linalg.inv(Sigma0) @ mu0 + X.T @ y / obs_var\n",
    "posterior_mean = jnp.linalg.solve(posterior_prec, b)\n",
    "batch_results = (posterior_mean, posterior_prec)"
   ]
  },
  {
   "cell_type": "code",
   "execution_count": 5,
   "id": "c089a85d",
   "metadata": {},
   "outputs": [
    {
     "data": {
      "text/plain": [
       "(Array([-5.8557234 ,  0.66274655], dtype=float32),\n",
       " Array([[  21.1,  210. ],\n",
       "        [ 210. , 2870.1]], dtype=float32))"
      ]
     },
     "execution_count": 5,
     "metadata": {},
     "output_type": "execute_result"
    }
   ],
   "source": [
    "batch_results"
   ]
  },
  {
   "cell_type": "code",
   "execution_count": null,
   "id": "3ce1c9e3",
   "metadata": {},
   "outputs": [],
   "source": [
    "# Unpack kalman filter results\n",
    "post_weights_kf, post_sigma_kf = kf_results\n",
    "w0_kf_hist, w1_kf_hist = post_weights_kf.T\n",
    "w0_kf_err, w1_kf_err = jnp.sqrt(post_sigma_kf[:, [0, 1], [0, 1]].T)\n",
    "\n",
    "# Unpack batch results\n",
    "post_weights_batch, post_prec_batch = batch_results\n",
    "w0_post_batch, w1_post_batch = post_weights_batch\n",
    "Sigma_post_batch = jnp.linalg.inv(post_prec_batch)\n",
    "w0_std_batch, w1_std_batch = jnp.sqrt(Sigma_post_batch[[0, 1], [0, 1]])\n",
    "\n",
    "fig, ax = plt.subplots()\n",
    "timesteps = jnp.arange(len(w0_kf_hist))\n",
    "\n",
    "# Plot online kalman filter posterior.\n",
    "ax.errorbar(timesteps, w0_kf_hist, w0_kf_err, fmt=\"-o\", label=\"$w_0$\", color=\"black\", fillstyle=\"none\")\n",
    "ax.errorbar(timesteps, w1_kf_hist, w1_kf_err, fmt=\"-o\", label=\"$w_1$\", color=\"tab:red\")\n",
    "\n",
    "# Plot batch posterior.\n",
    "ax.hlines(y=w0_post_batch, xmin=timesteps[0], xmax=timesteps[-1], color=\"black\", label=\"$w_0$ batch\")\n",
    "ax.hlines(\n",
    "    y=w1_post_batch, xmin=timesteps[0], xmax=timesteps[-1], color=\"tab:red\", linestyle=\"--\", label=\"$w_1$ batch\"\n",
    ")\n",
    "ax.fill_between(timesteps, w0_post_batch - w0_std_batch, w0_post_batch + w0_std_batch, color=\"black\", alpha=0.4)\n",
    "ax.fill_between(timesteps, w1_post_batch - w1_std_batch, w1_post_batch + w1_std_batch, color=\"tab:red\", alpha=0.4)\n",
    "\n",
    "ax.set_xlabel(\"time\")\n",
    "ax.set_ylabel(\"weights\")\n",
    "ax.legend()\n"
   ]
  }
 ],
 "metadata": {
  "kernelspec": {
   "display_name": "Python 3 (ipykernel)",
   "language": "python",
   "name": "python3"
  },
  "language_info": {
   "codemirror_mode": {
    "name": "ipython",
    "version": 3
   },
   "file_extension": ".py",
   "mimetype": "text/x-python",
   "name": "python",
   "nbconvert_exporter": "python",
   "pygments_lexer": "ipython3",
   "version": "3.10.9"
  }
 },
 "nbformat": 4,
 "nbformat_minor": 5
}
